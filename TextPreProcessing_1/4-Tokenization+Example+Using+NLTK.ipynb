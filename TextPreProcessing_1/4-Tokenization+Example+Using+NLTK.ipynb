{
 "cells": [
  {
   "cell_type": "code",
   "execution_count": 179,
   "metadata": {},
   "outputs": [
    {
     "name": "stdout",
     "output_type": "stream",
     "text": [
      "Requirement already satisfied: nltk in c:\\genai_udemy\\tokenization\\venv_tokenization\\lib\\site-packages (3.9.1)\n",
      "Requirement already satisfied: click in c:\\genai_udemy\\tokenization\\venv_tokenization\\lib\\site-packages (from nltk) (8.1.7)\n",
      "Requirement already satisfied: joblib in c:\\genai_udemy\\tokenization\\venv_tokenization\\lib\\site-packages (from nltk) (1.4.2)\n",
      "Requirement already satisfied: regex>=2021.8.3 in c:\\genai_udemy\\tokenization\\venv_tokenization\\lib\\site-packages (from nltk) (2024.7.24)\n",
      "Requirement already satisfied: tqdm in c:\\genai_udemy\\tokenization\\venv_tokenization\\lib\\site-packages (from nltk) (4.66.5)\n",
      "Requirement already satisfied: colorama in c:\\genai_udemy\\tokenization\\venv_tokenization\\lib\\site-packages (from click->nltk) (0.4.6)\n",
      "Note: you may need to restart the kernel to use updated packages.\n"
     ]
    },
    {
     "name": "stderr",
     "output_type": "stream",
     "text": [
      "\n",
      "[notice] A new release of pip is available: 24.0 -> 24.2\n",
      "[notice] To update, run: python.exe -m pip install --upgrade pip\n"
     ]
    }
   ],
   "source": [
    "%pip install nltk"
   ]
  },
  {
   "cell_type": "code",
   "execution_count": 180,
   "metadata": {},
   "outputs": [],
   "source": [
    "corpus=\"\"\"He's brought many captives home to Rome! Their ransoms filled the general coffers. \n",
    "Did this seem ambitious in Caesar? When the poor cried, Caesar wept. Ambition should be made of sterner stuff! Yet Brutus says he was ambitious, and Brutus is an honorable man.\n",
    "\"\"\""
   ]
  },
  {
   "cell_type": "code",
   "execution_count": 181,
   "metadata": {},
   "outputs": [
    {
     "name": "stdout",
     "output_type": "stream",
     "text": [
      "He's brought many captives home to Rome! Their ransoms filled the general coffers. \n",
      "Did this seem ambitious in Caesar? When the poor cried, Caesar wept. Ambition should be made of sterner stuff! Yet Brutus says he was ambitious, and Brutus is an honorable man.\n",
      "\n"
     ]
    }
   ],
   "source": [
    "print(corpus)"
   ]
  },
  {
   "cell_type": "code",
   "execution_count": 182,
   "metadata": {},
   "outputs": [],
   "source": [
    "from nltk.tokenize import sent_tokenize\n",
    "documents=sent_tokenize(corpus, language='english')"
   ]
  },
  {
   "cell_type": "markdown",
   "metadata": {},
   "source": [
    "### Handling NLTK LookUpError\n",
    "\n",
    "If you encounter a `LookUpError` with NLTK, follow these steps:\n",
    "\n",
    "1. **Find the location of the NLTK library and download the missing module:**\n",
    "\n",
    "    ```python\n",
    "    import sys\n",
    "    import nltk\n",
    "    import os\n",
    "\n",
    "    # Find the location of the NLTK library\n",
    "    nltk_location = os.path.dirname(sys.modules['nltk'].__file__)\n",
    "\n",
    "    # Add the NLTK library location to the data path\n",
    "    nltk.data.path.append(nltk_location)\n",
    "\n",
    "    # Download the missing module (e.g., 'punkt') in the exact location of the NLTK library\n",
    "    nltk.download('punkt', download_dir=nltk_location)\n",
    "    ```\n",
    "\n",
    "2. **Use NLTK functions after downloading the necessary data:**\n",
    "\n",
    "    ```python\n",
    "    from nltk.tokenize import sent_tokenize\n",
    "\n",
    "    # Tokenize a corpus into sentences\n",
    "    documents = sent_tokenize(corpus, language='english')\n",
    "    ```\n"
   ]
  },
  {
   "cell_type": "code",
   "execution_count": 183,
   "metadata": {},
   "outputs": [
    {
     "data": {
      "text/plain": [
       "list"
      ]
     },
     "execution_count": 183,
     "metadata": {},
     "output_type": "execute_result"
    }
   ],
   "source": [
    "type(documents)"
   ]
  },
  {
   "cell_type": "code",
   "execution_count": 184,
   "metadata": {},
   "outputs": [
    {
     "data": {
      "text/plain": [
       "[\"He's brought many captives home to Rome!\",\n",
       " 'Their ransoms filled the general coffers.',\n",
       " 'Did this seem ambitious in Caesar?',\n",
       " 'When the poor cried, Caesar wept.',\n",
       " 'Ambition should be made of sterner stuff!',\n",
       " 'Yet Brutus says he was ambitious, and Brutus is an honorable man.']"
      ]
     },
     "execution_count": 184,
     "metadata": {},
     "output_type": "execute_result"
    }
   ],
   "source": [
    "# The paragraph has been tokenized into sentences. Each token is an element of the list.\n",
    "documents"
   ]
  },
  {
   "cell_type": "code",
   "execution_count": 185,
   "metadata": {},
   "outputs": [
    {
     "name": "stdout",
     "output_type": "stream",
     "text": [
      "He's brought many captives home to Rome!\n",
      "Their ransoms filled the general coffers.\n",
      "Did this seem ambitious in Caesar?\n",
      "When the poor cried, Caesar wept.\n",
      "Ambition should be made of sterner stuff!\n",
      "Yet Brutus says he was ambitious, and Brutus is an honorable man.\n"
     ]
    }
   ],
   "source": [
    "for sentence in documents:\n",
    "    print(sentence)"
   ]
  },
  {
   "cell_type": "code",
   "execution_count": 186,
   "metadata": {},
   "outputs": [],
   "source": [
    "## Tokenization \n",
    "## Paragraph-->words\n",
    "## sentence--->words\n",
    "from nltk.tokenize import word_tokenize"
   ]
  },
  {
   "cell_type": "code",
   "execution_count": 187,
   "metadata": {},
   "outputs": [
    {
     "data": {
      "text/plain": [
       "['He',\n",
       " \"'s\",\n",
       " 'brought',\n",
       " 'many',\n",
       " 'captives',\n",
       " 'home',\n",
       " 'to',\n",
       " 'Rome',\n",
       " '!',\n",
       " 'Their',\n",
       " 'ransoms',\n",
       " 'filled',\n",
       " 'the',\n",
       " 'general',\n",
       " 'coffers',\n",
       " '.',\n",
       " 'Did',\n",
       " 'this',\n",
       " 'seem',\n",
       " 'ambitious',\n",
       " 'in',\n",
       " 'Caesar',\n",
       " '?',\n",
       " 'When',\n",
       " 'the',\n",
       " 'poor',\n",
       " 'cried',\n",
       " ',',\n",
       " 'Caesar',\n",
       " 'wept',\n",
       " '.',\n",
       " 'Ambition',\n",
       " 'should',\n",
       " 'be',\n",
       " 'made',\n",
       " 'of',\n",
       " 'sterner',\n",
       " 'stuff',\n",
       " '!',\n",
       " 'Yet',\n",
       " 'Brutus',\n",
       " 'says',\n",
       " 'he',\n",
       " 'was',\n",
       " 'ambitious',\n",
       " ',',\n",
       " 'and',\n",
       " 'Brutus',\n",
       " 'is',\n",
       " 'an',\n",
       " 'honorable',\n",
       " 'man',\n",
       " '.']"
      ]
     },
     "execution_count": 187,
     "metadata": {},
     "output_type": "execute_result"
    }
   ],
   "source": [
    "# Each word is separated and considered an element of the list. \n",
    "# Punctuation marks like periods and commas are also separated and added to the list. \n",
    "# However, apostrophes are included with the preceding letter, such as in contractions.\n",
    "word_tokenize(corpus)"
   ]
  },
  {
   "cell_type": "code",
   "execution_count": 188,
   "metadata": {},
   "outputs": [
    {
     "name": "stdout",
     "output_type": "stream",
     "text": [
      "['He', \"'s\", 'brought', 'many', 'captives', 'home', 'to', 'Rome', '!']\n",
      "['Their', 'ransoms', 'filled', 'the', 'general', 'coffers', '.']\n",
      "['Did', 'this', 'seem', 'ambitious', 'in', 'Caesar', '?']\n",
      "['When', 'the', 'poor', 'cried', ',', 'Caesar', 'wept', '.']\n",
      "['Ambition', 'should', 'be', 'made', 'of', 'sterner', 'stuff', '!']\n",
      "['Yet', 'Brutus', 'says', 'he', 'was', 'ambitious', ',', 'and', 'Brutus', 'is', 'an', 'honorable', 'man', '.']\n"
     ]
    }
   ],
   "source": [
    "for sentence in documents:\n",
    "    print(word_tokenize(sentence))"
   ]
  },
  {
   "cell_type": "code",
   "execution_count": 189,
   "metadata": {},
   "outputs": [],
   "source": [
    "from nltk.tokenize import wordpunct_tokenize"
   ]
  },
  {
   "cell_type": "code",
   "execution_count": 190,
   "metadata": {},
   "outputs": [
    {
     "data": {
      "text/plain": [
       "['He',\n",
       " \"'\",\n",
       " 's',\n",
       " 'brought',\n",
       " 'many',\n",
       " 'captives',\n",
       " 'home',\n",
       " 'to',\n",
       " 'Rome',\n",
       " '!',\n",
       " 'Their',\n",
       " 'ransoms',\n",
       " 'filled',\n",
       " 'the',\n",
       " 'general',\n",
       " 'coffers',\n",
       " '.',\n",
       " 'Did',\n",
       " 'this',\n",
       " 'seem',\n",
       " 'ambitious',\n",
       " 'in',\n",
       " 'Caesar',\n",
       " '?',\n",
       " 'When',\n",
       " 'the',\n",
       " 'poor',\n",
       " 'cried',\n",
       " ',',\n",
       " 'Caesar',\n",
       " 'wept',\n",
       " '.',\n",
       " 'Ambition',\n",
       " 'should',\n",
       " 'be',\n",
       " 'made',\n",
       " 'of',\n",
       " 'sterner',\n",
       " 'stuff',\n",
       " '!',\n",
       " 'Yet',\n",
       " 'Brutus',\n",
       " 'says',\n",
       " 'he',\n",
       " 'was',\n",
       " 'ambitious',\n",
       " ',',\n",
       " 'and',\n",
       " 'Brutus',\n",
       " 'is',\n",
       " 'an',\n",
       " 'honorable',\n",
       " 'man',\n",
       " '.']"
      ]
     },
     "execution_count": 190,
     "metadata": {},
     "output_type": "execute_result"
    }
   ],
   "source": [
    "# here the apostrophe is considered as a sperate element and add to the list, punctuation is considered as a separate element.\n",
    "wordpunct_tokenize(corpus)"
   ]
  },
  {
   "cell_type": "code",
   "execution_count": 191,
   "metadata": {},
   "outputs": [],
   "source": [
    "from nltk.tokenize import TreebankWordTokenizer"
   ]
  },
  {
   "cell_type": "code",
   "execution_count": 192,
   "metadata": {},
   "outputs": [],
   "source": [
    "tokenizer=TreebankWordTokenizer()"
   ]
  },
  {
   "cell_type": "code",
   "execution_count": 193,
   "metadata": {},
   "outputs": [
    {
     "data": {
      "text/plain": [
       "['He',\n",
       " \"'s\",\n",
       " 'brought',\n",
       " 'many',\n",
       " 'captives',\n",
       " 'home',\n",
       " 'to',\n",
       " 'Rome',\n",
       " '!',\n",
       " 'Their',\n",
       " 'ransoms',\n",
       " 'filled',\n",
       " 'the',\n",
       " 'general',\n",
       " 'coffers.',\n",
       " 'Did',\n",
       " 'this',\n",
       " 'seem',\n",
       " 'ambitious',\n",
       " 'in',\n",
       " 'Caesar',\n",
       " '?',\n",
       " 'When',\n",
       " 'the',\n",
       " 'poor',\n",
       " 'cried',\n",
       " ',',\n",
       " 'Caesar',\n",
       " 'wept.',\n",
       " 'Ambition',\n",
       " 'should',\n",
       " 'be',\n",
       " 'made',\n",
       " 'of',\n",
       " 'sterner',\n",
       " 'stuff',\n",
       " '!',\n",
       " 'Yet',\n",
       " 'Brutus',\n",
       " 'says',\n",
       " 'he',\n",
       " 'was',\n",
       " 'ambitious',\n",
       " ',',\n",
       " 'and',\n",
       " 'Brutus',\n",
       " 'is',\n",
       " 'an',\n",
       " 'honorable',\n",
       " 'man',\n",
       " '.']"
      ]
     },
     "execution_count": 193,
     "metadata": {},
     "output_type": "execute_result"
    }
   ],
   "source": [
    "# only the last fullstop will be considered as a seperate element, but all other fullstop will be considered along with the preceding word.\n",
    "tokenizer.tokenize(corpus)"
   ]
  }
 ],
 "metadata": {
  "kernelspec": {
   "display_name": "Python 3",
   "language": "python",
   "name": "python3"
  },
  "language_info": {
   "codemirror_mode": {
    "name": "ipython",
    "version": 3
   },
   "file_extension": ".py",
   "mimetype": "text/x-python",
   "name": "python",
   "nbconvert_exporter": "python",
   "pygments_lexer": "ipython3",
   "version": "3.12.3"
  }
 },
 "nbformat": 4,
 "nbformat_minor": 4
}
